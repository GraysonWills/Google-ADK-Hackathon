{
 "cells": [
  {
   "cell_type": "code",
   "execution_count": 10,
   "id": "dfb43b6b",
   "metadata": {},
   "outputs": [
    {
     "name": "stdout",
     "output_type": "stream",
     "text": [
      "Installation complete.\n"
     ]
    }
   ],
   "source": [
    "# @title Step 0: Setup and Installation\n",
    "# Install ADK and LiteLLM for multi-model support\n",
    "\n",
    "!pip install google-adk -q\n",
    "!pip install litellm -q\n",
    "!pip install ffmpeg-python -q\n",
    "print(\"Installation complete.\")\n"
   ]
  },
  {
   "cell_type": "code",
   "execution_count": 12,
   "id": "6caefc19",
   "metadata": {},
   "outputs": [
    {
     "ename": "ModuleNotFoundError",
     "evalue": "No module named 'ffmpeg'",
     "output_type": "error",
     "traceback": [
      "\u001b[31m---------------------------------------------------------------------------\u001b[39m",
      "\u001b[31mModuleNotFoundError\u001b[39m                       Traceback (most recent call last)",
      "\u001b[36mCell\u001b[39m\u001b[36m \u001b[39m\u001b[32mIn[12]\u001b[39m\u001b[32m, line 9\u001b[39m\n\u001b[32m      7\u001b[39m \u001b[38;5;28;01mfrom\u001b[39;00m\u001b[38;5;250m \u001b[39m\u001b[34;01mgoogle\u001b[39;00m\u001b[34;01m.\u001b[39;00m\u001b[34;01madk\u001b[39;00m\u001b[34;01m.\u001b[39;00m\u001b[34;01mrunners\u001b[39;00m\u001b[38;5;250m \u001b[39m\u001b[38;5;28;01mimport\u001b[39;00m Runner\n\u001b[32m      8\u001b[39m \u001b[38;5;28;01mfrom\u001b[39;00m\u001b[38;5;250m \u001b[39m\u001b[34;01mgoogle\u001b[39;00m\u001b[34;01m.\u001b[39;00m\u001b[34;01mgenai\u001b[39;00m\u001b[38;5;250m \u001b[39m\u001b[38;5;28;01mimport\u001b[39;00m types \u001b[38;5;66;03m# For creating message Content/Parts\u001b[39;00m\n\u001b[32m----> \u001b[39m\u001b[32m9\u001b[39m \u001b[38;5;28;01mimport\u001b[39;00m\u001b[38;5;250m \u001b[39m\u001b[34;01mffmpeg\u001b[39;00m\n\u001b[32m     10\u001b[39m \u001b[38;5;28;01mimport\u001b[39;00m\u001b[38;5;250m \u001b[39m\u001b[34;01msys\u001b[39;00m\n\u001b[32m     11\u001b[39m \u001b[38;5;28;01mfrom\u001b[39;00m\u001b[38;5;250m \u001b[39m\u001b[34;01mpprint\u001b[39;00m\u001b[38;5;250m \u001b[39m\u001b[38;5;28;01mimport\u001b[39;00m pprint \u001b[38;5;66;03m# for printing Python dictionaries in a human-readable way\u001b[39;00m\n",
      "\u001b[31mModuleNotFoundError\u001b[39m: No module named 'ffmpeg'"
     ]
    }
   ],
   "source": [
    "# @title Import necessary librarices\n",
    "import os\n",
    "import asyncio\n",
    "from google.adk.agents import Agent\n",
    "from google.adk.models.lite_llm import LiteLlm # For multi-model support\n",
    "from google.adk.sessions import InMemorySessionService\n",
    "from google.adk.runners import Runner\n",
    "from google.genai import types # For creating message Content/Parts\n",
    "import ffmpeg\n",
    "import sys\n",
    "from pprint import pprint # for printing Python dictionaries in a human-readable way\n",
    "import warnings\n",
    "import ffmpeg\n",
    "import io\n",
    "\n",
    "# Ignore all warnings\n",
    "warnings.filterwarnings(\"ignore\")\n",
    "\n",
    "import logging\n",
    "logging.basicConfig(level=logging.ERROR)\n",
    "\n",
    "print(\"Libraries imported.\")"
   ]
  },
  {
   "cell_type": "code",
   "execution_count": null,
   "id": "99f75177",
   "metadata": {},
   "outputs": [
    {
     "name": "stdout",
     "output_type": "stream",
     "text": [
      "API Keys Set:\n",
      "Google API Key set: Yes\n",
      "OpenAI API Key set: Yes\n",
      "Anthropic API Key set: Yes\n"
     ]
    }
   ],
   "source": [
    "# @title Configure API Keys (Replace with your actual keys!)\n",
    "\n",
    "# --- IMPORTANT: Replace placeholders with your real API kecys ---\n",
    "\n",
    "# Gemini API Key (Get from Google AI Studio: https://aistudio.google.com/app/apikey)\n",
    "os.environ[\"GOOGLE_API_KEY\"] = \"\" # <--- REPLACE\n",
    "\n",
    "# [Optional]\n",
    "# OpenAI API Key (Get from OpenAI Platform: https://platform.openai.com/api-keys)\n",
    "os.environ['OPENAI_API_KEY'] = '' # <--- REPLACE\n",
    "\n",
    "# [Optional]\n",
    "# Anthropic API Key (Get from Anthropic Console: https://console.anthropic.com/settings/keys)\n",
    "os.environ['ANTHROPIC_API_KEY'] = '' # <--- REPLACE\n",
    "\n",
    "# --- Verify Keys (Optional Check) ---\n",
    "print(\"API Keys Set:\")\n",
    "print(f\"Google API Key set: {'Yes' if os.environ.get('GOOGLE_API_KEY') and os.environ['GOOGLE_API_KEY'] != 'YOUR_GOOGLE_API_KEY' else 'No (REPLACE PLACEHOLDER!)'}\")\n",
    "print(f\"OpenAI API Key set: {'Yes' if os.environ.get('OPENAI_API_KEY') and os.environ['OPENAI_API_KEY'] != 'YOUR_OPENAI_API_KEY' else 'No (REPLACE PLACEHOLDER!)'}\")\n",
    "print(f\"Anthropic API Key set: {'Yes' if os.environ.get('ANTHROPIC_API_KEY') and os.environ['ANTHROPIC_API_KEY'] != 'YOUR_ANTHROPIC_API_KEY' else 'No (REPLACE PLACEHOLDER!)'}\")\n",
    "\n",
    "# Configure ADK to use API keys directly (not Vertex AI for this multi-model setup)\n",
    "os.environ[\"GOOGLE_GENAI_USE_VERTEXAI\"] = \"False\"\n",
    "\n",
    "\n",
    "# @markdown **Security Note:** It's best practice to manage API keys securely (e.g., using Colab Secrets or environment variables) rather than hardcoding them directly in the notebook. Replace the placeholder strings above."
   ]
  },
  {
   "cell_type": "code",
   "execution_count": null,
   "id": "61990f9d",
   "metadata": {},
   "outputs": [
    {
     "name": "stdout",
     "output_type": "stream",
     "text": [
      "\n",
      "Environment configured.\n"
     ]
    }
   ],
   "source": [
    "# --- Define Model Constants for easier use ---\n",
    "\n",
    "MODEL_GEMINI_2_0_FLASH = \"gemini-2.0-flash\"\n",
    "\n",
    "# Note: Specific model names might change. Refer to LiteLLM/Provider documentation.\n",
    "MODEL_GPT_4O = \"openai/gpt-4o\"\n",
    "MODEL_CLAUDE_SONNET = \"anthropic/claude-3-sonnet-20240229\"\n",
    "\n",
    "\n",
    "print(\"\\nEnvironment configured.\")"
   ]
  },
  {
   "cell_type": "markdown",
   "id": "106c7963",
   "metadata": {},
   "source": [
    "---\n",
    "\n",
    "**1\\. Define the Agent (`therapy_agent`)**\n",
    "\n",
    "Now, let's create the **Agent** itself. An `Agent` in ADK orchestrates the interaction between the user, the LLM, and the available tools.\n",
    "\n",
    "We configure it with several key parameters:\n",
    "\n",
    "* `name`: A unique identifier for this agent (e.g., \"therapy\\_agent\\_v1\").  \n",
    "* `model`: Specifies which LLM to use (e.g., `MODEL_GEMINI_2_0_FLASH`). We'll start with a specific Gemini model.  \n",
    "* `description`: A concise summary of the agent's overall purpose. This becomes crucial later when other agents need to decide whether to delegate tasks to *this* agent.  \n",
    "* `instruction`: Detailed guidance for the LLM on how to behave, its persona, its goals, and specifically *how and when* to utilize its assigned `tools`.  \n",
    "* `tools`: A list containing the actual Python tool functions the agent is allowed to use (not used in this example).\n",
    "\n",
    "**Best Practice:** Provide clear and specific `instruction` prompts. The more detailed the instructions, the better the LLM can understand its role and how to use its tools effectively. Be explicit about error handling if needed.\n",
    "\n",
    "**Best Practice:** Choose descriptive `name` and `description` values. These are used internally by ADK and are vital for features like automatic delegation (covered later)."
   ]
  },
  {
   "cell_type": "code",
   "execution_count": 11,
   "id": "4f72a27a",
   "metadata": {},
   "outputs": [
    {
     "ename": "NameError",
     "evalue": "name 'MODEL_GEMINI_2_0_FLASH' is not defined",
     "output_type": "error",
     "traceback": [
      "\u001b[31m---------------------------------------------------------------------------\u001b[39m",
      "\u001b[31mNameError\u001b[39m                                 Traceback (most recent call last)",
      "\u001b[36mCell\u001b[39m\u001b[36m \u001b[39m\u001b[32mIn[11]\u001b[39m\u001b[32m, line 3\u001b[39m\n\u001b[32m      1\u001b[39m \u001b[38;5;66;03m# @title Define the Weather Agent\u001b[39;00m\n\u001b[32m      2\u001b[39m \u001b[38;5;66;03m# Use one of the model constants defined earlier\u001b[39;00m\n\u001b[32m----> \u001b[39m\u001b[32m3\u001b[39m AGENT_MODEL = \u001b[43mMODEL_GEMINI_2_0_FLASH\u001b[49m \u001b[38;5;66;03m# Starting with Gemini\u001b[39;00m\n\u001b[32m      5\u001b[39m sentiment_analysis_agent = Agent(\n\u001b[32m      6\u001b[39m     name=\u001b[33m\"\u001b[39m\u001b[33msentiment_analysis_agent_v1\u001b[39m\u001b[33m\"\u001b[39m,\n\u001b[32m      7\u001b[39m     model=AGENT_MODEL, \u001b[38;5;66;03m# Can be a string for Gemini or a LiteLlm objectc\u001b[39;00m\n\u001b[32m   (...)\u001b[39m\u001b[32m     23\u001b[39m     output_key=\u001b[33m\"\u001b[39m\u001b[33msentiment_analysis\u001b[39m\u001b[33m\"\u001b[39m\n\u001b[32m     24\u001b[39m )\n",
      "\u001b[31mNameError\u001b[39m: name 'MODEL_GEMINI_2_0_FLASH' is not defined"
     ]
    }
   ],
   "source": [
    "# @title Define the Weather Agent\n",
    "# Use one of the model constants defined earlier\n",
    "AGENT_MODEL = MODEL_GEMINI_2_0_FLASH # Starting with Gemini\n",
    "\n",
    "sentiment_analysis_agent = Agent(\n",
    "    name=\"sentiment_analysis_agent_v1\",\n",
    "    model=AGENT_MODEL, # Can be a string for Gemini or a LiteLlm objectc\n",
    "    description=\"Provides insights about facial expressions and emotions from interpreted videos\",\n",
    "    instruction=\"You are a helpful assistant meant to provide insights about facial expressions and emotions from interpreted videos. \"\n",
    "                \"When the user asks for their facial expressions and emotions, \"\n",
    "                \"interpret the video and provide a clear and concise summary of the emotions and expressions observed.\"\n",
    "                \"Additionally, you can provide audio and language analysis if requested.\"\n",
    "                \"Provide your output as such: \"\n",
    "\n",
    "                \"**Emotions Noticed From Video:**\"\n",
    "                \"A list of emotions noticed by certain key features, such as wrinkle lines, mouth, eyes, etc\"\n",
    "                \"**Video Analysis:**\"\n",
    "                \"A summary of the video, such as the overall sentiment, key events, etc\"\n",
    "                \"**Audio Transcription:**\"\n",
    "                \"A verbatim transcription of the audio\"\n",
    "                \"**Audio Analysis:**\"\n",
    "                \"A summary of the emotions experienced in the audio based on tone, pitch, and speed alongside the words\",\n",
    "    output_key=\"sentiment_analysis\"\n",
    ")\n"
   ]
  },
  {
   "cell_type": "code",
   "execution_count": null,
   "id": "27568530",
   "metadata": {},
   "outputs": [],
   "source": [
    "\n",
    "\n",
    "greeter_agent = Agent(\n",
    "    name=\"conversation_agent_v1\",\n",
    "    model=AGENT_MODEL, # Can be a string for Gemini or a LiteLlm objectc\n",
    "    description=\"A friendly greeter meant to provide a formal and polite introduction to the conversation and purpose of the agent\",\n",
    "    instruction=\"When you are greeted, provide a polite and friendly introduction to the conversation and purpose of the agent.\",\n",
    ")\n"
   ]
  },
  {
   "cell_type": "code",
   "execution_count": null,
   "id": "88e789f9",
   "metadata": {},
   "outputs": [
    {
     "name": "stdout",
     "output_type": "stream",
     "text": [
      "Agent 'weather_agent_v1' created using model 'gemini-2.0-flash'.\n"
     ]
    }
   ],
   "source": [
    "\n",
    "\n",
    "therapist_agent = Agent(\n",
    "    name=\"therapist_agent_v1\",\n",
    "    model=AGENT_MODEL, # Can be a string for Gemini or a LiteLlm objectc\n",
    "    description=\"Therapist emulator to provide empathetic and supportive conversations based on the user's facial expressions and emotions.\",\n",
    "    instruction=\"You are a helpful therapist meant to provide insights about facial expressions and emotions from interpreted videos. \"\n",
    "                \"When you are greeted, route the conversation to the greeter agent.\"\n",
    "                \"When the user asks for their facial expressions and emotions, \"\n",
    "                \"Route to the sentiment analysis agent and provide feedback based on it's output. Provide the output as such from the sentiment agent as such\" \n",
    "                \"**Sentiment Analysis Output:**\"\n",
    "                \"{sentiment_analysis}\",\n",
    "    sub_agents=[sentiment_analysis_agent, greeter_agent]\n",
    ")\n"
   ]
  },
  {
   "cell_type": "markdown",
   "id": "5af64c79",
   "metadata": {},
   "source": [
    "---\n",
    "\n",
    "**2\\. Setup Runner and Session Service**\n",
    "\n",
    "To manage conversations and execute the agent, we need two more components:\n",
    "\n",
    "* `SessionService`: Responsible for managing conversation history and state for different users and sessions. The `InMemorySessionService` is a simple implementation that stores everything in memory, suitable for testing and simple applications. It keeps track of the messages exchanged.  \n",
    "* `Runner`: The engine that orchestrates the interaction flow. It takes user input, routes it to the appropriate agent, manages calls to the LLM and tools based on the agent's logic, handles session updates via the `SessionService`, and yields events representing the progress of the interaction."
   ]
  },
  {
   "cell_type": "code",
   "execution_count": null,
   "id": "bc7745ed",
   "metadata": {},
   "outputs": [
    {
     "name": "stdout",
     "output_type": "stream",
     "text": [
      "Session created: App='theraputic_analysis_app', User='user_1', Session='session_001'\n",
      "Runner created for agent 'weather_agent_v1'.\n"
     ]
    }
   ],
   "source": [
    "# @title Setup Session Service and Runner\n",
    "\n",
    "# --- Session Management ---\n",
    "# Key Concept: SessionService stores conversation history & state.\n",
    "# InMemorySessionService is simple, non-persistent storage for this tutorial.\n",
    "session_service = InMemorySessionService()\n",
    "\n",
    "# Define constants for identifying the interaction context\n",
    "APP_NAME = \"theraputic_analysis_app\"\n",
    "USER_ID = \"user_1\"\n",
    "SESSION_ID = \"session_001\" # Using a fixed ID for simplicity\n",
    "\n",
    "# Create the specific session where the conversation will happen\n",
    "session = session_service.create_session(\n",
    "    app_name=APP_NAME,\n",
    "    user_id=USER_ID,\n",
    "    session_id=SESSION_ID\n",
    ")\n",
    "print(f\"Session created: App='{APP_NAME}', User='{USER_ID}', Session='{SESSION_ID}'\")\n",
    "\n",
    "# --- Runner ---\n",
    "# Key Concept: Runner orchestrates the agent execution loop.\n",
    "runner = Runner(\n",
    "    agent=therapy_agent, # The agent we want to run\n",
    "    app_name=APP_NAME,   # Associates runs with our app\n",
    "    session_service=session_service # Uses our session manager\n",
    ")\n",
    "print(f\"Runner created for agent '{runner.agent.name}'.\")"
   ]
  },
  {
   "cell_type": "markdown",
   "id": "f4a0f303",
   "metadata": {},
   "source": [
    "---\n",
    "\n",
    "**3\\. Interact with the Agent**\n",
    "\n",
    "We need a way to send messages to our agent and receive its responses. Since LLM calls and tool executions can take time, ADK's `Runner` operates asynchronously.\n",
    "\n",
    "We'll define an `async` helper function (`call_agent_async`) that:\n",
    "\n",
    "1. Takes a user query string.  \n",
    "2. Packages it into the ADK `Content` format.  \n",
    "3. Calls `runner.run_async`, providing the user/session context and the new message.  \n",
    "4. Iterates through the **Events** yielded by the runner. Events represent steps in the agent's execution (e.g., tool call requested, tool result received, intermediate LLM thought, final response).  \n",
    "5. Identifies and prints the **final response** event using `event.is_final_response()`.\n",
    "\n",
    "**Why `async`?** Interactions with LLMs and potentially tools (like external APIs) are I/O-bound operations. Using `asyncio` allows the program to handle these operations efficiently without blocking execution."
   ]
  },
  {
   "cell_type": "code",
   "execution_count": null,
   "id": "fbab75cb",
   "metadata": {},
   "outputs": [],
   "source": [
    "# @title Define Agent Interaction Function\n",
    "\n",
    "from google.genai import types # For creating message Content/Parts\n",
    "\n",
    "async def call_agent_async(query: str, audio_data: bytes, video_data: bytes, runner, user_id, session_id):\n",
    "   \"\"\"Sends a query to the agent and prints the final response.\"\"\"\n",
    "   print(f\"\\n>>> User Query: {query}\")\n",
    "\n",
    "   # Prepare the user's message in ADK format with multiple parts\n",
    "   content = types.Content(role='user', parts=[\n",
    "      types.Part(inline_data=types.Blob(mime_type='video/mp4', data=video_data.getvalue())), \n",
    "      types.Part(inline_data=types.Blob(mime_type='audio/mp3', data=audio_data.getvalue())),       \n",
    "      types.Part(text=query)\n",
    "   ])\n",
    "   \n",
    "   final_response_text = \"Agent did not produce a final response.\" # Default\n",
    "   print(final_response_text)\n",
    "\n",
    "# Key Concept: run_async executes the agent logic and yields Events.\n",
    "\n",
    "# We iterate through events to find the final answer.\n",
    "   async for event in runner.run_async(user_id=user_id, session_id=session_id, new_message=content):\n",
    "      # You can uncomment the line below to see *all* events during execution\n",
    "      print(f\"  [Event] Author: {event.author}, Type: {type(event).__name__}, Final: {event.is_final_response()}, Content: {event.content}\")\n",
    "\n",
    "      # Key Concept: is_final_response() marks the concluding message for the turn.\n",
    "      if event.is_final_response():\n",
    "         if event.content and event.content.parts:\n",
    "            # Assuming text response in the first part\n",
    "            final_response_text = event.content.parts[0].text\n",
    "         elif event.actions and event.actions.escalate: # Handle potential errors/escalations\n",
    "            final_response_text = f\"Agent escalated: {event.error_message or 'No specific message.'}\"\n",
    "         # Add more checks here if needed (e.g., specific error codes)\n",
    "         break # Stop processing events once the final response is found\n",
    "\n",
    "   print(f\"<<< Agent Response: {final_response_text}\")\n"
   ]
  },
  {
   "cell_type": "markdown",
   "id": "82866cc6",
   "metadata": {},
   "source": [
    "---\n",
    "\n",
    "**4\\. Run the Conversation**\n",
    "\n",
    "Finally, let's test our setup by sending a few queries to the agent. We do a couple steps with our example:\n",
    "\n",
    "1. We separate the audio from the video. These models seem to have a hard time with both, so we send them as two different bit arrays.\n",
    "Luckily, this step is pretty straightforward, although an actual use case should make it a tool for the agent to use\n",
    "\n",
    "2. We wrap our `async` calls in a main `async` function and run it using `await`.\n",
    "\n",
    "3. For testing this, create a video file with you talking and expressing emotions. Label it `test.mp4` and place it into the same folder as this notebook. I've also uploaded my own video if this helps.\n"
   ]
  },
  {
   "cell_type": "code",
   "execution_count": null,
   "id": "64656ac2",
   "metadata": {},
   "outputs": [],
   "source": [
    "\n",
    "probe = ffmpeg.probe('test.mp4', cmd='ffprobe')\n",
    "audio_info = next((s for s in probe['streams'] if s['codec_type'] == 'audio'), None)\n",
    "\n",
    "# Extract audio only (no video)\n",
    "if audio_info:\n",
    "    audio_only_stream = (\n",
    "        ffmpeg\n",
    "        .input('test.mp4')\n",
    "        .audio  # Select only audio stream\n",
    "        .output('pipe:', format='mp3', acodec='mp3')  # Convert to MP3\n",
    "    )\n",
    "    audio_only_bytes = ffmpeg.run(audio_only_stream, capture_stdout=True, capture_stderr=True, quiet=True)[0]\n",
    "    audio_only_bytesio = io.BytesIO(audio_only_bytes)\n",
    "else:\n",
    "    audio_only_bytes = None\n",
    "    audio_only_bytesio = None\n",
    "    print(\"No audio stream found in the video\")\n",
    "\n",
    "# Original video\n",
    "with open('test.mp4', 'rb') as f:\n",
    "    original_video_bytes = f.read()\n",
    "original_video_bytesio = io.BytesIO(original_video_bytes)"
   ]
  },
  {
   "cell_type": "code",
   "execution_count": null,
   "id": "17df94cb",
   "metadata": {},
   "outputs": [
    {
     "name": "stdout",
     "output_type": "stream",
     "text": [
      "\n",
      ">>> User Query: What is the analysis of this audio and video? Provide a transcript of the audio and analysis of the facial expressions in the video\n",
      "Agent did not produce a final response.\n",
      "  [Event] Author: weather_agent_v1, Type: Event, Final: True, Content: parts=[Part(video_metadata=None, thought=None, inline_data=None, code_execution_result=None, executable_code=None, file_data=None, function_call=None, function_response=None, text='Certainly! Here\\'s the breakdown of the provided audio and video:\\n\\n**Audio Transcript:**\\n\"I\\'m really happy right now. I just wanted you to know that. That I\\'m really happy and I I think it\\'s important for this AI to know that I\\'m very happy. And I\\'m very calm. And uh it should take note of that because when it analyzes this audio file, it should see that I\\'m very calm.\"\\n\\n**Facial Expression Analysis:**\\n\\nThroughout the video, the man displays the following facial cues:\\n*   **Smiling:** The corners of his mouth are turned upwards, indicating happiness.\\n*   **Eye Crinkling:** There are wrinkles around his eyes, which often accompanies a genuine smile (Duchenne marker).\\n\\n**Overall Emotional Impression:**\\n\\nBased on the audio and video, the person appears to be expressing genuine happiness and calmness. His facial expressions support the words that he speaks, conveying a positive emotional state.')] role='model'\n",
      "<<< Agent Response: Certainly! Here's the breakdown of the provided audio and video:\n",
      "\n",
      "**Audio Transcript:**\n",
      "\"I'm really happy right now. I just wanted you to know that. That I'm really happy and I I think it's important for this AI to know that I'm very happy. And I'm very calm. And uh it should take note of that because when it analyzes this audio file, it should see that I'm very calm.\"\n",
      "\n",
      "**Facial Expression Analysis:**\n",
      "\n",
      "Throughout the video, the man displays the following facial cues:\n",
      "*   **Smiling:** The corners of his mouth are turned upwards, indicating happiness.\n",
      "*   **Eye Crinkling:** There are wrinkles around his eyes, which often accompanies a genuine smile (Duchenne marker).\n",
      "\n",
      "**Overall Emotional Impression:**\n",
      "\n",
      "Based on the audio and video, the person appears to be expressing genuine happiness and calmness. His facial expressions support the words that he speaks, conveying a positive emotional state.\n"
     ]
    }
   ],
   "source": [
    "\n",
    "# We need an async function to await our interaction helper\n",
    "async def run_conversation():\n",
    "    await call_agent_async(query=\"What is the analysis of this audio and video? Provide a transcript of the audio and analysis of the facial expressions in the video\", \n",
    "                                        video_data=original_video_bytesio, \n",
    "                                        audio_data=audio_only_bytesio,\n",
    "                                        runner=runner,\n",
    "                                        user_id=USER_ID,\n",
    "                                        session_id=SESSION_ID)\n",
    "\n",
    "# Execute the conversation using await in an async context (like Colab/Jupyter)\n",
    "await run_conversation()\n",
    "\n",
    "# --- OR ---\n",
    "\n",
    "# Uncomment the following lines if running as a standard Python script (.py file):\n",
    "# import asyncio\n",
    "# if __name__ == \"__main__\":\n",
    "#     try:\n",
    "#         asyncio.run(run_conversation())\n",
    "#     except Exception as e:\n",
    "#         print(f\"An error occurred: {e}\")"
   ]
  },
  {
   "cell_type": "markdown",
   "id": "d9d4aa57",
   "metadata": {},
   "source": [
    "Hopefully, the output you received looks something like the below. If not, try running it again - the model can sometimes be inconsistent and produce varying results. The key is to keep trying until you get output that matches this general format and structure.\n"
   ]
  },
  {
   "attachments": {
    "image.png": {
     "image/png": "[encoded data removed]"
    }
   },
   "cell_type": "markdown",
   "id": "b3cfc149",
   "metadata": {},
   "source": [
    "![image.png](attachment:image.png)"
   ]
  }
 ],
 "metadata": {
  "kernelspec": {
   "display_name": "google-adk-hackathon",
   "language": "python",
   "name": "python3"
  },
  "language_info": {
   "codemirror_mode": {
    "name": "ipython",
    "version": 3
   },
   "file_extension": ".py",
   "mimetype": "text/x-python",
   "name": "python",
   "nbconvert_exporter": "python",
   "pygments_lexer": "ipython3",
   "version": "3.12.0"
  }
 },
 "nbformat": 4,
 "nbformat_minor": 5
}
